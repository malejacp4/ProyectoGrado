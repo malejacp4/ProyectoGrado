{
 "cells": [
  {
   "cell_type": "markdown",
   "metadata": {},
   "source": [
    "<h1>Proyecto, Procesamiento de lenguaje natural aplicado al análisis de opinión política para las elecciones presidenciales en Colombia 2022<span class=\"tocSkip\"></span></h1> \n",
    "\n",
    ">**Maestría en Analítica de Datos**  \n",
    ">**Facultad de Ingeniería y Ciencias Básicas.**  \n",
    ">**Universidad Central  2021 - III**  \n",
    ">**Integrantes del trabajo:**  \n",
    ">- Maria Alejandra Castillo Pabon\n",
    ">- David Alejandro Ballesteros Díaz"
   ]
  },
  {
   "cell_type": "markdown",
   "metadata": {},
   "source": [
    "# Librerias"
   ]
  },
  {
   "cell_type": "code",
   "execution_count": 1,
   "metadata": {},
   "outputs": [],
   "source": [
    "import pandas as pd\n",
    "from pyvis.network import Network\n",
    "import numpy as np\n",
    "#import seaborn as sns"
   ]
  },
  {
   "cell_type": "markdown",
   "metadata": {},
   "source": [
    "# Cargar de datos procesados\n",
    "Entorno consolidado de los candidatos"
   ]
  },
  {
   "cell_type": "code",
   "execution_count": 2,
   "metadata": {},
   "outputs": [],
   "source": [
    "df_sigue= pd.read_csv('entorno_consolidado.csv')\n",
    "df_sigue = df_sigue.where(pd.notnull(df_sigue), None) \n",
    "df_sigue = df_sigue[df_sigue['conteo'] >= 2]\n",
    "sources = df_sigue['usuario']\n",
    "targets = df_sigue['nombre']\n",
    "weights = df_sigue['cantidad_seguidores']"
   ]
  },
  {
   "cell_type": "markdown",
   "metadata": {},
   "source": [
    "Asignación de color de los nodos"
   ]
  },
  {
   "cell_type": "code",
   "execution_count": 3,
   "metadata": {},
   "outputs": [],
   "source": [
    "df_sigue['Color'] = [\"#ff2d00\" if s == \"Periodista\" else \"#ff00bd\" if s==\"Mediocomunicacion\" else \"#a8327d\" \n",
    "                     if s==\"Politico\" else \"#d5d9cc\" if s ==\"Religion\" else \"#1d1e1a\" if s==\"PEP\" else \"#5b3500\"\n",
    "                     if s==\"Empresa\" else \"#09d3ec\" for s in df_sigue['grupo']] "
   ]
  },
  {
   "cell_type": "markdown",
   "metadata": {},
   "source": [
    "Filtro del segundo grafo para usuarios mas representativos (mayor a 1.000.000 de seguidores)"
   ]
  },
  {
   "cell_type": "code",
   "execution_count": 90,
   "metadata": {},
   "outputs": [],
   "source": [
    "df_sigue2 = df_sigue[df_sigue['cantidad_seguidores'] >= 1000000]"
   ]
  },
  {
   "cell_type": "markdown",
   "metadata": {},
   "source": [
    "# Parametros\n",
    "\n",
    "## Parametros grafos \n",
    "Diccionario y lista con los datos de los candidatos para realizar el grafó"
   ]
  },
  {
   "cell_type": "code",
   "execution_count": 100,
   "metadata": {},
   "outputs": [],
   "source": [
    "sergio_fajardo = {'usuario' : 'sergio_fajardo', 'color' : '#1aff00', 'imagen': 'https://cej.org.co/wp-content/uploads/2018/04/voto_fajardo.png'}\n",
    "petrogustavo = {'usuario' : 'petrogustavo', 'color' : '#f5ef42', 'imagen': 'https://pbs.twimg.com/profile_images/962471262747529216/Uo8lOkRJ_400x400.jpg'}\n",
    "OIZuluaga = {'usuario' : 'OIZuluaga', 'color' : '#1325ed', 'imagen': 'https://pbs.twimg.com/profile_images/996539767041986561/xSjJrWRJ_400x400.jpg'}\n",
    "MariaFdaCabal = {'usuario' : 'MariaFdaCabal', 'color' : '#6c00a6', 'imagen': 'https://pbs.twimg.com/profile_images/1443286044380700683/4l8hXcsI_400x400.jpg'}\n",
    "ingrodolfohdez = {'usuario' : 'ingrodolfohdez', 'color' : '#a64500', 'imagen': 'https://pbs.twimg.com/profile_images/1176174546342338561/P37zgjin_400x400.jpg'}\n",
    "\n",
    "candidatos = {\"sergio_fajardo\" : sergio_fajardo,\"petrogustavo\" : petrogustavo,'OIZuluaga' : OIZuluaga, 'MariaFdaCabal' : MariaFdaCabal,'ingrodolfohdez' : ingrodolfohdez}\n",
    "usuarios= {'sergio_fajardo','petrogustavo','OIZuluaga','MariaFdaCabal','ingrodolfohdez'}\n"
   ]
  },
  {
   "cell_type": "markdown",
   "metadata": {},
   "source": [
    "# Visualización\n",
    "## Grafo general del entorno"
   ]
  },
  {
   "cell_type": "code",
   "execution_count": 118,
   "metadata": {
    "scrolled": false
   },
   "outputs": [
    {
     "data": {
      "text/html": [
       "\n",
       "        <iframe\n",
       "            width=\"95%\"\n",
       "            height=\"850px\"\n",
       "            src=\"candidatos.html\"\n",
       "            frameborder=\"0\"\n",
       "            allowfullscreen\n",
       "        ></iframe>\n",
       "        "
      ],
      "text/plain": [
       "<IPython.lib.display.IFrame at 0x173ff113100>"
      ]
     },
     "execution_count": 118,
     "metadata": {},
     "output_type": "execute_result"
    }
   ],
   "source": [
    "grafo = Network(\"850px\", \"95%\",notebook=True,heading=\"Usuarios de twitter en común por candidat\")#font_color='white'\n",
    "\n",
    "grafo.barnes_hut()\n",
    "\n",
    "candidato = df_sigue['usuario']\n",
    "sigue = df_sigue['nombre']\n",
    "cantidad = df_sigue['cantidad_seguidores']\n",
    "ids=df_sigue['id']\n",
    "color=df_sigue['Color']\n",
    "\n",
    "edge_data = zip(candidato, sigue, cantidad,ids,color)\n",
    "\n",
    "for e in edge_data:\n",
    "    src = e[0]\n",
    "    dst = e[1]\n",
    "    w = e[2]\n",
    "    i = e[3]\n",
    "    c = e[4]\n",
    "    if src in usuarios :\n",
    "        grafo.add_node(src,size=200,label=\" \",title= src + format(1,',d'),color=candidatos[src]['color'],shape=\"circularImage\",image = candidatos[src]['imagen'])\n",
    "    else:\n",
    "        grafo.add_node(src, src, src,size=w)\n",
    "    if w > 1000000:\n",
    "        grafo.add_node(dst,label=dst,level=w,value=100,size=150,title=dst +\"<br>Cantidad de seguidores:<br>\"+format(w,',d'),color=c)        \n",
    "    else:\n",
    "        grafo.add_node(dst, label=\" \",level=w, title=dst,value=1)\n",
    "    grafo.add_edge(src, dst, value=w,minium_weight=0)\n",
    "    neighbor_map = grafo.get_adj_list()\n",
    "\n",
    "for node in grafo.nodes:\n",
    "    node['title'] += '<br>Seguido por:<br>-' + '<br>-'.join(neighbor_map[node['id']])\n",
    "grafo.show('candidatos.html')"
   ]
  },
  {
   "cell_type": "code",
   "execution_count": 117,
   "metadata": {},
   "outputs": [
    {
     "data": {
      "text/html": [
       "\n",
       "        <iframe\n",
       "            width=\"95%\"\n",
       "            height=\"850px\"\n",
       "            src=\"gameofthrones.html\"\n",
       "            frameborder=\"0\"\n",
       "            allowfullscreen\n",
       "        ></iframe>\n",
       "        "
      ],
      "text/plain": [
       "<IPython.lib.display.IFrame at 0x173ff1136d0>"
      ]
     },
     "execution_count": 117,
     "metadata": {},
     "output_type": "execute_result"
    }
   ],
   "source": [
    "grafo = Network(\"850px\", \"95%\",notebook=True,heading=\"Usuarios mas importantes de twitter en común por candidatos\")#font_color='white'\n",
    "\n",
    "candidato = df_sigue2['usuario']\n",
    "sigue = df_sigue2['nombre']\n",
    "cantidad = df_sigue2['cantidad_seguidores']\n",
    "ids=df_sigue2['id']\n",
    "color=df_sigue2['Color']\n",
    "\n",
    "edge_data = zip(candidato, sigue, cantidad,ids,color)\n",
    "\n",
    "for e in edge_data:\n",
    "    src = e[0]\n",
    "    dst = e[1]\n",
    "    w = e[2]\n",
    "    i = e[3]\n",
    "    c = e[4]\n",
    "\n",
    "    if src in usuarios :\n",
    "        grafo.add_node(src,size=200,label=\" \",title= src + format(1,',d'),color=candidatos[src]['color'],shape=\"circularImage\",image = candidatos[src]['imagen'])\n",
    "    else:\n",
    "        grafo.add_node(src, src, src,size=100)\n",
    "    if w > 3000000:\n",
    "                grafo.add_node(dst,label=dst,level=w, title=dst +\"<br>Cantidad de seguidores:<br>\"+format(w,',d'),color=c)\n",
    "                grafo.add_edge(src, dst,value=w,minium_weight=800)\n",
    "    else:\n",
    "        grafo.add_node(dst,label=dst,level=w, title=dst + \"<br>Cantidad de seguidores:<br>\"+format(w,',d'),color=c)\n",
    "        grafo.add_edge(src, dst)\n",
    "    grafo.repulsion(100,spring_length=240)\n",
    "    neighbor_map = grafo.get_adj_list()\n",
    "\n",
    "for node in grafo.nodes:\n",
    "    node['title'] += '<br>Seguido por:<br>-' + '<br>-'.join(neighbor_map[node['id']])\n",
    "    node['value'] = len(neighbor_map[node['id']])\n",
    "grafo.show('candidatos2.html')"
   ]
  }
 ],
 "metadata": {
  "kernelspec": {
   "display_name": "Python 3",
   "language": "python",
   "name": "python3"
  },
  "language_info": {
   "codemirror_mode": {
    "name": "ipython",
    "version": 3
   },
   "file_extension": ".py",
   "mimetype": "text/x-python",
   "name": "python",
   "nbconvert_exporter": "python",
   "pygments_lexer": "ipython3",
   "version": "3.8.5"
  }
 },
 "nbformat": 4,
 "nbformat_minor": 4
}
